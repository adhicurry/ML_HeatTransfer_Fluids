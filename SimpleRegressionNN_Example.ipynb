{
 "cells": [
  {
   "cell_type": "code",
   "execution_count": null,
   "id": "c8129e10",
   "metadata": {},
   "outputs": [],
   "source": [
    "# Import Modules\n",
    "import torch\n",
    "import torch.nn as nn\n",
    "import torch.optim as optim\n",
    "from torch.utils.data import TensorDataset, DataLoader\n",
    "from sklearn.model_selection import train_test_split\n",
    "import numpy as np\n",
    "import matplotlib.pyplot as plt"
   ]
  },
  {
   "cell_type": "code",
   "execution_count": null,
   "id": "1eded4a5",
   "metadata": {},
   "outputs": [],
   "source": [
    "# Set seeds for reproducibility\n",
    "torch.manual_seed(42)\n",
    "np.random.seed(42)\n",
    "\n",
    "# Set device\n",
    "device = torch.device('cuda' if torch.cuda.is_available() else 'cpu')\n",
    "print(f'Using device: {device}')"
   ]
  },
  {
   "cell_type": "code",
   "execution_count": null,
   "id": "a5b3a876",
   "metadata": {},
   "outputs": [],
   "source": [
    "# Define Data to be used\n",
    "x = np.linspace(-0.7*np.pi, 0.7*np.pi, 1000)\n",
    "y = np.sin(x)\n",
    "\n",
    "# Split data into training and test\n",
    "x_train, x_test, y_train, y_test = train_test_split(x, y, test_size=0.1, shuffle=True)\n",
    "\n",
    "# Visualize all data and test data\n",
    "plt.plot(x, y, '.', label='All data')\n",
    "plt.plot(x_test, y_test, 'x', label='Test Data')\n",
    "plt.legend()\n",
    "plt.show()"
   ]
  },
  {
   "cell_type": "code",
   "execution_count": null,
   "id": "1eec49cf",
   "metadata": {},
   "outputs": [],
   "source": [
    "# Convert training data to PyTorch Tensors and move to device\n",
    "x_train = torch.Tensor(x_train).float().view(-1, 1).to(device)\n",
    "y_train = torch.Tensor(y_train).float().view(-1, 1).to(device)\n",
    "x_test = torch.Tensor(x_test).float().view(-1, 1).to(device)\n",
    "y_test = torch.Tensor(y_test).float().view(-1, 1).to(device)"
   ]
  },
  {
   "cell_type": "code",
   "execution_count": null,
   "id": "06a0342a",
   "metadata": {},
   "outputs": [],
   "source": [
    "# Define Neural Network Architecture\n",
    "class NN(nn.Module):\n",
    "    def __init__(self, input_size, hidden_size, output_size):\n",
    "        super(NN, self).__init__()\n",
    "        self.layer1 = nn.Linear(input_size, hidden_size)\n",
    "        self.relu = nn.ReLU()\n",
    "        self.layer2 = nn.Linear(hidden_size, output_size)\n",
    "    \n",
    "    def forward(self, x):\n",
    "        x = self.layer1(x)\n",
    "        x = self.relu(x)\n",
    "        x = self.layer2(x)\n",
    "        return x\n",
    "\n",
    "input_size = 1\n",
    "hidden_size = 64\n",
    "output_size = 1\n",
    "\n",
    "model = NN(input_size, hidden_size, output_size).to(device)  # Move model to device\n",
    "criterion = nn.L1Loss()\n",
    "optimizer = optim.Adam(model.parameters(), lr=0.001)\n",
    "\n",
    "train_dataset = TensorDataset(x_train, y_train)  \n",
    "train_loader = DataLoader(train_dataset, batch_size=100, shuffle=True)"
   ]
  },
  {
   "cell_type": "code",
   "execution_count": null,
   "id": "21a75eb1",
   "metadata": {},
   "outputs": [],
   "source": [
    "# Define Neural Network Training Parameters\n",
    "\n",
    "num_epochs = 100\n",
    "losses = []\n",
    "for epoch in range(num_epochs):\n",
    "    model.train()  # Set model to training mode\n",
    "    for inputs, labels in train_loader:\n",
    "        optimizer.zero_grad()\n",
    "        outputs = model(inputs)\n",
    "        loss = criterion(outputs, labels)\n",
    "        loss.backward()\n",
    "        optimizer.step()\n",
    "    losses.append(loss.item())\n",
    "    \n",
    "plt.title('Training Loss')\n",
    "plt.plot(losses)\n",
    "plt.xlabel('Epoch')\n",
    "plt.ylabel('Loss')\n",
    "plt.show()"
   ]
  },
  {
   "cell_type": "code",
   "execution_count": null,
   "id": "cf3bc435",
   "metadata": {},
   "outputs": [],
   "source": [
    "# Evaluate Mean Absolute Error of Model\n",
    "with torch.no_grad():\n",
    "    model.eval()  # Set model to evaluation mode\n",
    "    predictions = model(x_test)  \n",
    "    mae = torch.mean(torch.abs(predictions - y_test))\n",
    "    print(f'MAE: {mae.item():.6f}')"
   ]
  },
  {
   "cell_type": "code",
   "execution_count": null,
   "id": "57aad1fe",
   "metadata": {},
   "outputs": [],
   "source": [
    "# Plot predicted value vs actual value\n",
    "\n",
    "plt.figure(figsize=(10, 6))\n",
    "prd = predictions.cpu().numpy().ravel()  # Move back to CPU for plotting\n",
    "plt.plot(x_test.cpu().numpy(), y_test.cpu().numpy(), '.', label='labels')\n",
    "plt.plot(x_test.cpu().numpy(), prd, 'x', label='predictions')\n",
    "plt.title('Model Predictions vs Actual Values')\n",
    "plt.xlabel('x')\n",
    "plt.ylabel('y')\n",
    "plt.legend()\n",
    "plt.show()"
   ]
  },
  {
   "cell_type": "code",
   "execution_count": null,
   "id": "9f14dbf6",
   "metadata": {},
   "outputs": [],
   "source": []
  }
 ],
 "metadata": {
  "kernelspec": {
   "display_name": "MLearning",
   "language": "python",
   "name": "mlearning"
  },
  "language_info": {
   "codemirror_mode": {
    "name": "ipython",
    "version": 3
   },
   "file_extension": ".py",
   "mimetype": "text/x-python",
   "name": "python",
   "nbconvert_exporter": "python",
   "pygments_lexer": "ipython3",
   "version": "3.11.0"
  }
 },
 "nbformat": 4,
 "nbformat_minor": 5
}
